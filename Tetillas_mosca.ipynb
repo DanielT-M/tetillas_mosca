{
  "nbformat": 4,
  "nbformat_minor": 0,
  "metadata": {
    "colab": {
      "provenance": []
    },
    "kernelspec": {
      "name": "python3",
      "display_name": "Python 3"
    },
    "language_info": {
      "name": "python"
    }
  },
  "cells": [
    {
      "cell_type": "markdown",
      "source": [
        "#Tetillas_mosca\n",
        "El código a continuación fue escrito por alumnos de INB, UNAM, para facilitar la cuantificación de la densidad de las tetillas presentes en el lente del omatidio de la mosca de la fruta (*Drosophila melanogaster*).\n",
        "Favor de consultar el README en este repositorio para conocer los detalles relacionados. "
      ],
      "metadata": {
        "id": "X69y0H13ay1O"
      }
    },
    {
      "cell_type": "code",
      "execution_count": 17,
      "metadata": {
        "id": "U6mFeaz8Dmgl"
      },
      "outputs": [],
      "source": [
        "## Imports necesarios\n",
        "import numpy as np\n",
        "import pandas as pd"
      ]
    },
    {
      "cell_type": "markdown",
      "source": [
        "Cargar los datos de entrada"
      ],
      "metadata": {
        "id": "G6a9zu5COl4o"
      }
    },
    {
      "cell_type": "code",
      "source": [
        "pezones = pd.read_csv('https://raw.githubusercontent.com/DanielT-M/tetillas_mosca/main/tablas/Pezones_control_coordenadas.csv') \n",
        "\n",
        "pezones #dataframe con lo datos de entrada"
      ],
      "metadata": {
        "colab": {
          "base_uri": "https://localhost:8080/",
          "height": 424
        },
        "id": "-W012wXoDtka",
        "outputId": "7786a476-44a4-433b-9898-ab9c9184b943"
      },
      "execution_count": 12,
      "outputs": [
        {
          "output_type": "execute_result",
          "data": {
            "text/plain": [
              "        x1     y1\n",
              "0    0.154  0.239\n",
              "1    0.335  0.098\n",
              "2    0.314  0.402\n",
              "3    0.095  0.473\n",
              "4    0.270  0.616\n",
              "..     ...    ...\n",
              "382  5.390  0.453\n",
              "383  5.241  0.268\n",
              "384  5.023  0.227\n",
              "385  5.232  0.089\n",
              "386  4.744  0.115\n",
              "\n",
              "[387 rows x 2 columns]"
            ],
            "text/html": [
              "\n",
              "  <div id=\"df-8ee6b7de-3437-44b2-aad7-f973522ae6b5\">\n",
              "    <div class=\"colab-df-container\">\n",
              "      <div>\n",
              "<style scoped>\n",
              "    .dataframe tbody tr th:only-of-type {\n",
              "        vertical-align: middle;\n",
              "    }\n",
              "\n",
              "    .dataframe tbody tr th {\n",
              "        vertical-align: top;\n",
              "    }\n",
              "\n",
              "    .dataframe thead th {\n",
              "        text-align: right;\n",
              "    }\n",
              "</style>\n",
              "<table border=\"1\" class=\"dataframe\">\n",
              "  <thead>\n",
              "    <tr style=\"text-align: right;\">\n",
              "      <th></th>\n",
              "      <th>x1</th>\n",
              "      <th>y1</th>\n",
              "    </tr>\n",
              "  </thead>\n",
              "  <tbody>\n",
              "    <tr>\n",
              "      <th>0</th>\n",
              "      <td>0.154</td>\n",
              "      <td>0.239</td>\n",
              "    </tr>\n",
              "    <tr>\n",
              "      <th>1</th>\n",
              "      <td>0.335</td>\n",
              "      <td>0.098</td>\n",
              "    </tr>\n",
              "    <tr>\n",
              "      <th>2</th>\n",
              "      <td>0.314</td>\n",
              "      <td>0.402</td>\n",
              "    </tr>\n",
              "    <tr>\n",
              "      <th>3</th>\n",
              "      <td>0.095</td>\n",
              "      <td>0.473</td>\n",
              "    </tr>\n",
              "    <tr>\n",
              "      <th>4</th>\n",
              "      <td>0.270</td>\n",
              "      <td>0.616</td>\n",
              "    </tr>\n",
              "    <tr>\n",
              "      <th>...</th>\n",
              "      <td>...</td>\n",
              "      <td>...</td>\n",
              "    </tr>\n",
              "    <tr>\n",
              "      <th>382</th>\n",
              "      <td>5.390</td>\n",
              "      <td>0.453</td>\n",
              "    </tr>\n",
              "    <tr>\n",
              "      <th>383</th>\n",
              "      <td>5.241</td>\n",
              "      <td>0.268</td>\n",
              "    </tr>\n",
              "    <tr>\n",
              "      <th>384</th>\n",
              "      <td>5.023</td>\n",
              "      <td>0.227</td>\n",
              "    </tr>\n",
              "    <tr>\n",
              "      <th>385</th>\n",
              "      <td>5.232</td>\n",
              "      <td>0.089</td>\n",
              "    </tr>\n",
              "    <tr>\n",
              "      <th>386</th>\n",
              "      <td>4.744</td>\n",
              "      <td>0.115</td>\n",
              "    </tr>\n",
              "  </tbody>\n",
              "</table>\n",
              "<p>387 rows × 2 columns</p>\n",
              "</div>\n",
              "      <button class=\"colab-df-convert\" onclick=\"convertToInteractive('df-8ee6b7de-3437-44b2-aad7-f973522ae6b5')\"\n",
              "              title=\"Convert this dataframe to an interactive table.\"\n",
              "              style=\"display:none;\">\n",
              "        \n",
              "  <svg xmlns=\"http://www.w3.org/2000/svg\" height=\"24px\"viewBox=\"0 0 24 24\"\n",
              "       width=\"24px\">\n",
              "    <path d=\"M0 0h24v24H0V0z\" fill=\"none\"/>\n",
              "    <path d=\"M18.56 5.44l.94 2.06.94-2.06 2.06-.94-2.06-.94-.94-2.06-.94 2.06-2.06.94zm-11 1L8.5 8.5l.94-2.06 2.06-.94-2.06-.94L8.5 2.5l-.94 2.06-2.06.94zm10 10l.94 2.06.94-2.06 2.06-.94-2.06-.94-.94-2.06-.94 2.06-2.06.94z\"/><path d=\"M17.41 7.96l-1.37-1.37c-.4-.4-.92-.59-1.43-.59-.52 0-1.04.2-1.43.59L10.3 9.45l-7.72 7.72c-.78.78-.78 2.05 0 2.83L4 21.41c.39.39.9.59 1.41.59.51 0 1.02-.2 1.41-.59l7.78-7.78 2.81-2.81c.8-.78.8-2.07 0-2.86zM5.41 20L4 18.59l7.72-7.72 1.47 1.35L5.41 20z\"/>\n",
              "  </svg>\n",
              "      </button>\n",
              "      \n",
              "  <style>\n",
              "    .colab-df-container {\n",
              "      display:flex;\n",
              "      flex-wrap:wrap;\n",
              "      gap: 12px;\n",
              "    }\n",
              "\n",
              "    .colab-df-convert {\n",
              "      background-color: #E8F0FE;\n",
              "      border: none;\n",
              "      border-radius: 50%;\n",
              "      cursor: pointer;\n",
              "      display: none;\n",
              "      fill: #1967D2;\n",
              "      height: 32px;\n",
              "      padding: 0 0 0 0;\n",
              "      width: 32px;\n",
              "    }\n",
              "\n",
              "    .colab-df-convert:hover {\n",
              "      background-color: #E2EBFA;\n",
              "      box-shadow: 0px 1px 2px rgba(60, 64, 67, 0.3), 0px 1px 3px 1px rgba(60, 64, 67, 0.15);\n",
              "      fill: #174EA6;\n",
              "    }\n",
              "\n",
              "    [theme=dark] .colab-df-convert {\n",
              "      background-color: #3B4455;\n",
              "      fill: #D2E3FC;\n",
              "    }\n",
              "\n",
              "    [theme=dark] .colab-df-convert:hover {\n",
              "      background-color: #434B5C;\n",
              "      box-shadow: 0px 1px 3px 1px rgba(0, 0, 0, 0.15);\n",
              "      filter: drop-shadow(0px 1px 2px rgba(0, 0, 0, 0.3));\n",
              "      fill: #FFFFFF;\n",
              "    }\n",
              "  </style>\n",
              "\n",
              "      <script>\n",
              "        const buttonEl =\n",
              "          document.querySelector('#df-8ee6b7de-3437-44b2-aad7-f973522ae6b5 button.colab-df-convert');\n",
              "        buttonEl.style.display =\n",
              "          google.colab.kernel.accessAllowed ? 'block' : 'none';\n",
              "\n",
              "        async function convertToInteractive(key) {\n",
              "          const element = document.querySelector('#df-8ee6b7de-3437-44b2-aad7-f973522ae6b5');\n",
              "          const dataTable =\n",
              "            await google.colab.kernel.invokeFunction('convertToInteractive',\n",
              "                                                     [key], {});\n",
              "          if (!dataTable) return;\n",
              "\n",
              "          const docLinkHtml = 'Like what you see? Visit the ' +\n",
              "            '<a target=\"_blank\" href=https://colab.research.google.com/notebooks/data_table.ipynb>data table notebook</a>'\n",
              "            + ' to learn more about interactive tables.';\n",
              "          element.innerHTML = '';\n",
              "          dataTable['output_type'] = 'display_data';\n",
              "          await google.colab.output.renderOutput(dataTable, element);\n",
              "          const docLink = document.createElement('div');\n",
              "          docLink.innerHTML = docLinkHtml;\n",
              "          element.appendChild(docLink);\n",
              "        }\n",
              "      </script>\n",
              "    </div>\n",
              "  </div>\n",
              "  "
            ]
          },
          "metadata": {},
          "execution_count": 12
        }
      ]
    },
    {
      "cell_type": "code",
      "source": [
        "#Definimos una función \"tetillas\" que organice los datos en una sola ejecución\n",
        "\n",
        "def tetillas(data, r):\n",
        "\n",
        "  datos = data.copy()\n",
        "  #definimos listas\n",
        "\n",
        "  lenght = []\n",
        "  punto_1 = []\n",
        "  punto_2 = []\n",
        "\n",
        "  #Definimos el ciclo for:\n",
        "  for i in range(0,len(datos)):  # i va a recorrer todos los números de 0 hasta la longitud del data frame\n",
        "    for n in range(0,len(datos)): \n",
        "      #Agregamos a la lista \"lenght\" cada distancia obtenida\n",
        "      lenght.append(np.sqrt((np.power((datos['x1'][n]-datos['x1'][i]),2)+(np.power((datos['y1'][n]-datos['y1'][i]),2) ))))\n",
        "      #Tomamos el registro de entre cuales puntos se midió la distancia\n",
        "      punto_1.append(i)\n",
        "      punto_2.append(n)\n",
        "\n",
        "  # Con las listas creamos un dataframe \n",
        "\n",
        "  listas = [punto_1,punto_2,lenght]\n",
        "\n",
        "  df_pezones = pd.DataFrame (listas).transpose()\n",
        "  df_pezones.columns = ['Punto 1', 'Punto 2', 'Distancia (µm)']\n",
        "\n",
        "  #df_pezones contiene todas las distancias y los puntos que se comparan\n",
        "  \n",
        "  #Eliminamos las distancias mayores al radio (r)\n",
        "\n",
        "  df_pezones.drop(df_pezones[(df_pezones['Distancia (µm)'] > r ) ].index, inplace=True)\n",
        "\n",
        "  #En los datos de entrada queremos eliminar los puntos fuera del margen dado por r\n",
        "  max_x = datos['x1'].max()\n",
        "  max_y = datos['y1'].max()\n",
        "\n",
        "  datos.drop(datos[(datos['x1'] > max_x-r) | (datos['x1'] < r) | (datos['y1'] < r) | (datos['y1'] > max_y-r)].index, inplace=True)\n",
        "\n",
        "  #Creamos un arreglo con los puntos restantes identificados por numero\n",
        "  arreglo_pezones = datos.index.values\n",
        "\n",
        "  #De df_pezones nos quedamos con los casos donde el punto 1 esta dentro del margen\n",
        "  # y eliminamos las distancias cero\n",
        "\n",
        "  for i in df_pezones.index.values:\n",
        "    if not ((df_pezones.loc[i]['Punto 1'] in arreglo_pezones) & (df_pezones.loc[i]['Distancia (µm)'] != 0)):\n",
        "      df_pezones = df_pezones.drop(i)\n",
        "  \n",
        "  print(df_pezones)\n",
        "  #Creamos una tabla de frecuencias para saber cuántos puntos rodean el punto 1\n",
        "  #dadas nuestras condiciones\n",
        "  \n",
        "  frec = df_pezones.groupby(['Punto 1']).count()\n",
        "  frec = frec.drop(columns = ['Distancia (µm)']) \n",
        "  frec = frec.rename(columns={\"Punto 2\": \"Cantidad de puntos alrededor\"})\n",
        "  print(frec)\n",
        "  \n",
        "  #Exportamos los dataframes\n",
        "\n",
        "  df_pezones.to_csv(\"Distancias.csv\",index=False)\n",
        "  frec.to_csv(\"Conteo.csv\")\n",
        "  datos.to_csv(\"Coordenadas_de_los_puntos.csv\",index=True, index_label=\"No. de Punto\")\n",
        "  \n"
      ],
      "metadata": {
        "id": "PPr7iiO1h6j_"
      },
      "execution_count": 14,
      "outputs": []
    },
    {
      "cell_type": "markdown",
      "source": [
        "Insertar el nombre de los datos de entrada y el radio deseado en *µ*m"
      ],
      "metadata": {
        "id": "OBm1p_L3OW_A"
      }
    },
    {
      "cell_type": "code",
      "source": [
        "tetillas(pezones, 0.75) #r = 0.75 µm"
      ],
      "metadata": {
        "colab": {
          "base_uri": "https://localhost:8080/"
        },
        "id": "uToZMrU8ICKG",
        "outputId": "181b4b82-32aa-4f4d-f822-6614898da98b"
      },
      "execution_count": 15,
      "outputs": [
        {
          "output_type": "stream",
          "name": "stdout",
          "text": [
            "        Punto 1  Punto 2  Distancia (µm)\n",
            "18965      49.0      2.0        0.683441\n",
            "18967      49.0      4.0        0.631861\n",
            "18968      49.0      5.0        0.712310\n",
            "18969      49.0      6.0        0.462180\n",
            "18970      49.0      7.0        0.433889\n",
            "...         ...      ...             ...\n",
            "142793    368.0    377.0        0.447385\n",
            "142794    368.0    378.0        0.513640\n",
            "142795    368.0    379.0        0.651685\n",
            "142796    368.0    380.0        0.602416\n",
            "142797    368.0    381.0        0.683878\n",
            "\n",
            "[5527 rows x 3 columns]\n",
            "         Cantidad de puntos alrededor\n",
            "Punto 1                              \n",
            "49.0                               33\n",
            "50.0                               36\n",
            "69.0                               36\n",
            "70.0                               38\n",
            "71.0                               37\n",
            "...                               ...\n",
            "348.0                              30\n",
            "349.0                              30\n",
            "350.0                              32\n",
            "351.0                              30\n",
            "368.0                              32\n",
            "\n",
            "[180 rows x 1 columns]\n"
          ]
        }
      ]
    },
    {
      "cell_type": "code",
      "source": [
        "tetillas(pezones, 0.5) #r = 0.5 µm"
      ],
      "metadata": {
        "colab": {
          "base_uri": "https://localhost:8080/"
        },
        "id": "lOz-dAT2SLeF",
        "outputId": "9c628457-ebb1-4299-9dcd-a2d75f975074"
      },
      "execution_count": null,
      "outputs": [
        {
          "output_type": "stream",
          "name": "stdout",
          "text": [
            "        Punto 1  Punto 2  Distancia (µm)\n",
            "4259       11.0      2.0        0.460184\n",
            "4261       11.0      4.0        0.456089\n",
            "4263       11.0      6.0        0.375868\n",
            "4264       11.0      7.0        0.240052\n",
            "4265       11.0      8.0        0.304867\n",
            "...         ...      ...             ...\n",
            "146632    378.0    346.0        0.249032\n",
            "146633    378.0    347.0        0.450960\n",
            "146662    378.0    376.0        0.430141\n",
            "146663    378.0    377.0        0.212257\n",
            "146665    378.0    379.0        0.419315\n",
            "\n",
            "[3189 rows x 3 columns]\n",
            "         Cantidad de puntos alrededor\n",
            "Punto 1                              \n",
            "11.0                               14\n",
            "12.0                               15\n",
            "13.0                               14\n",
            "48.0                               14\n",
            "49.0                               15\n",
            "...                               ...\n",
            "368.0                              15\n",
            "369.0                              14\n",
            "376.0                              15\n",
            "377.0                              12\n",
            "378.0                              12\n",
            "\n",
            "[237 rows x 1 columns]\n"
          ]
        }
      ]
    }
  ]
}